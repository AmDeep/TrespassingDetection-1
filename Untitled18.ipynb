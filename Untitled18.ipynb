{
 "cells": [
  {
   "cell_type": "code",
   "execution_count": 1,
   "metadata": {},
   "outputs": [
    {
     "name": "stdout",
     "output_type": "stream",
     "text": [
      "Collecting scrapy\n",
      "  Downloading Scrapy-1.8.0-py2.py3-none-any.whl (238 kB)\n",
      "Collecting service-identity>=16.0.0\n",
      "  Downloading service_identity-18.1.0-py2.py3-none-any.whl (11 kB)\n",
      "Requirement already satisfied: pyOpenSSL>=16.2.0 in c:\\users\\amardeep\\anaconda2\\lib\\site-packages (from scrapy) (18.0.0)\n",
      "Collecting Twisted>=16.0.0; python_version == \"2.7\"\n",
      "  Downloading Twisted-19.10.0-cp27-cp27m-win_amd64.whl (3.2 MB)\n",
      "Collecting w3lib>=1.17.0\n",
      "  Downloading w3lib-1.21.0-py2.py3-none-any.whl (20 kB)\n",
      "Collecting PyDispatcher>=2.0.5\n",
      "  Downloading PyDispatcher-2.0.5.tar.gz (34 kB)\n",
      "Collecting cssselect>=0.9.1\n",
      "  Downloading cssselect-1.1.0-py2.py3-none-any.whl (16 kB)\n",
      "Collecting parsel>=1.5.0\n",
      "  Downloading parsel-1.5.2-py2.py3-none-any.whl (12 kB)\n",
      "Collecting protego>=0.1.15\n",
      "  Downloading Protego-0.1.16.tar.gz (3.2 MB)\n",
      "Requirement already satisfied: lxml>=3.5.0 in c:\\users\\amardeep\\anaconda2\\lib\\site-packages (from scrapy) (4.2.5)\n",
      "Requirement already satisfied: cryptography>=2.0 in c:\\users\\amardeep\\anaconda2\\lib\\site-packages (from scrapy) (2.4.2)\n",
      "Requirement already satisfied: six>=1.10.0 in c:\\users\\amardeep\\anaconda2\\lib\\site-packages (from scrapy) (1.12.0)\n",
      "Collecting zope.interface>=4.1.3\n",
      "  Downloading zope.interface-4.7.1-cp27-cp27m-win_amd64.whl (132 kB)\n",
      "Collecting queuelib>=1.4.2\n",
      "  Downloading queuelib-1.5.0-py2.py3-none-any.whl (13 kB)\n",
      "Collecting pyasn1-modules\n",
      "  Downloading pyasn1_modules-0.2.8-py2.py3-none-any.whl (155 kB)\n",
      "Requirement already satisfied: attrs>=16.0.0 in c:\\users\\amardeep\\anaconda2\\lib\\site-packages (from service-identity>=16.0.0->scrapy) (18.2.0)\n",
      "Requirement already satisfied: ipaddress; python_version < \"3.3\" in c:\\users\\amardeep\\anaconda2\\lib\\site-packages (from service-identity>=16.0.0->scrapy) (1.0.22)\n",
      "Collecting pyasn1\n",
      "  Downloading pyasn1-0.4.8-py2.py3-none-any.whl (77 kB)\n",
      "Collecting incremental>=16.10.1\n",
      "  Downloading incremental-17.5.0-py2.py3-none-any.whl (16 kB)\n",
      "Collecting Automat>=0.3.0\n",
      "  Downloading Automat-20.2.0-py2.py3-none-any.whl (31 kB)\n",
      "Collecting hyperlink>=17.1.1\n",
      "  Downloading hyperlink-19.0.0-py2.py3-none-any.whl (38 kB)\n",
      "Collecting constantly>=15.1\n",
      "  Downloading constantly-15.1.0-py2.py3-none-any.whl (7.9 kB)\n",
      "Collecting PyHamcrest>=1.9.0\n",
      "  Downloading PyHamcrest-1.10.1.tar.gz (43 kB)\n",
      "Requirement already satisfied: functools32; python_version < \"3.0\" in c:\\users\\amardeep\\anaconda2\\lib\\site-packages (from parsel>=1.5.0->scrapy) (3.2.3.post2)\n",
      "Requirement already satisfied: enum34; python_version < \"3\" in c:\\users\\amardeep\\anaconda2\\lib\\site-packages (from cryptography>=2.0->scrapy) (1.1.6)\n",
      "Requirement already satisfied: idna>=2.1 in c:\\users\\amardeep\\anaconda2\\lib\\site-packages (from cryptography>=2.0->scrapy) (2.8)\n",
      "Requirement already satisfied: asn1crypto>=0.21.0 in c:\\users\\amardeep\\anaconda2\\lib\\site-packages (from cryptography>=2.0->scrapy) (0.24.0)\n",
      "Requirement already satisfied: cffi!=1.11.3,>=1.7 in c:\\users\\amardeep\\anaconda2\\lib\\site-packages (from cryptography>=2.0->scrapy) (1.11.5)\n",
      "Requirement already satisfied: setuptools in c:\\users\\amardeep\\anaconda2\\lib\\site-packages (from zope.interface>=4.1.3->scrapy) (40.6.3)\n",
      "Requirement already satisfied: pycparser in c:\\users\\amardeep\\anaconda2\\lib\\site-packages (from cffi!=1.11.3,>=1.7->cryptography>=2.0->scrapy) (2.19)\n",
      "Building wheels for collected packages: PyDispatcher, protego, PyHamcrest\n",
      "  Building wheel for PyDispatcher (setup.py): started\n",
      "  Building wheel for PyDispatcher (setup.py): finished with status 'done'\n",
      "  Created wheel for PyDispatcher: filename=PyDispatcher-2.0.5-py2-none-any.whl size=12567 sha256=358d84ce6b6a303e6d21b863905312d3e97f23d9bda056fd2bd00ee453d2e0ae\n",
      "  Stored in directory: c:\\users\\amardeep\\appdata\\local\\pip\\cache\\wheels\\35\\5f\\0f\\474144aca7e2624be7670cdd9c6eca4979713cee237d16b464\n",
      "  Building wheel for protego (setup.py): started\n",
      "  Building wheel for protego (setup.py): finished with status 'done'\n",
      "  Created wheel for protego: filename=Protego-0.1.16-py2-none-any.whl size=7796 sha256=f3c1b718e06964b1e75c1c9ec42fb375de942d409fd6ea7c7c7fd653191cd4ae\n",
      "  Stored in directory: c:\\users\\amardeep\\appdata\\local\\pip\\cache\\wheels\\50\\41\\57\\228635c140878de06d942d072c9924afa56a86bb8fc2d319a4\n",
      "  Building wheel for PyHamcrest (setup.py): started\n",
      "  Building wheel for PyHamcrest (setup.py): finished with status 'done'\n",
      "  Created wheel for PyHamcrest: filename=PyHamcrest-1.10.1-py2-none-any.whl size=48972 sha256=876b6ed4fda6049422b0c0cc556de0d3e88cbae1e76d3a6e755fa7fcb137cd95\n",
      "  Stored in directory: c:\\users\\amardeep\\appdata\\local\\pip\\cache\\wheels\\f5\\8c\\e2\\f0cea19d340270166bbfd4a2e9d8b8c132e26ef7e1376a0890\n",
      "Successfully built PyDispatcher protego PyHamcrest\n",
      "Installing collected packages: pyasn1, pyasn1-modules, service-identity, incremental, Automat, zope.interface, hyperlink, constantly, PyHamcrest, Twisted, w3lib, PyDispatcher, cssselect, parsel, protego, queuelib, scrapy\n",
      "Successfully installed Automat-20.2.0 PyDispatcher-2.0.5 PyHamcrest-1.10.1 Twisted-19.10.0 constantly-15.1.0 cssselect-1.1.0 hyperlink-19.0.0 incremental-17.5.0 parsel-1.5.2 protego-0.1.16 pyasn1-0.4.8 pyasn1-modules-0.2.8 queuelib-1.5.0 scrapy-1.8.0 service-identity-18.1.0 w3lib-1.21.0 zope.interface-4.7.1\n"
     ]
    },
    {
     "name": "stderr",
     "output_type": "stream",
     "text": [
      "DEPRECATION: Python 2.7 reached the end of its life on January 1st, 2020. Please upgrade your Python as Python 2.7 is no longer maintained. A future version of pip will drop support for Python 2.7. More details about Python 2 support in pip, can be found at https://pip.pypa.io/en/latest/development/release-process/#python-2-support\n",
      "ERROR: automat 20.2.0 has requirement attrs>=19.2.0, but you'll have attrs 18.2.0 which is incompatible.\n"
     ]
    }
   ],
   "source": [
    "!pip install scrapy"
   ]
  },
  {
   "cell_type": "code",
   "execution_count": 4,
   "metadata": {},
   "outputs": [],
   "source": [
    "import pandas as pd\n",
    "import numpy as np\n",
    "import matplotlib.pyplot as plt\n",
    "import seaborn as sns\n",
    "%matplotlib inline"
   ]
  },
  {
   "cell_type": "markdown",
   "metadata": {},
   "source": [
    "from urllib.request import urlopen\n",
    "from bs4 import BeautifulSoup"
   ]
  },
  {
   "cell_type": "code",
   "execution_count": 7,
   "metadata": {},
   "outputs": [
    {
     "ename": "ImportError",
     "evalue": "No module named request",
     "output_type": "error",
     "traceback": [
      "\u001b[1;31m---------------------------------------------------------------------------\u001b[0m",
      "\u001b[1;31mImportError\u001b[0m                               Traceback (most recent call last)",
      "\u001b[1;32m<ipython-input-7-6fb6e763d4bf>\u001b[0m in \u001b[0;36m<module>\u001b[1;34m()\u001b[0m\n\u001b[1;32m----> 1\u001b[1;33m \u001b[1;32mfrom\u001b[0m \u001b[0murllib\u001b[0m\u001b[1;33m.\u001b[0m\u001b[0mrequest\u001b[0m \u001b[1;32mimport\u001b[0m \u001b[0murlopen\u001b[0m\u001b[1;33m\u001b[0m\u001b[0m\n\u001b[0m\u001b[0;32m      2\u001b[0m \u001b[1;32mfrom\u001b[0m \u001b[0mbs4\u001b[0m \u001b[1;32mimport\u001b[0m \u001b[0mBeautifulSoup\u001b[0m\u001b[1;33m\u001b[0m\u001b[0m\n",
      "\u001b[1;31mImportError\u001b[0m: No module named request"
     ]
    }
   ],
   "source": [
    "from urllib.request import urlopen\n",
    "from bs4 import BeautifulSoup"
   ]
  },
  {
   "cell_type": "code",
   "execution_count": 8,
   "metadata": {},
   "outputs": [
    {
     "name": "stdout",
     "output_type": "stream",
     "text": [
      "Collecting request\n",
      "  Downloading request-2019.4.13.tar.gz (1.3 kB)\n",
      "Collecting get\n",
      "  Downloading get-2019.4.13.tar.gz (1.3 kB)\n",
      "Collecting post\n",
      "  Downloading post-2019.4.13.tar.gz (1.3 kB)\n",
      "Requirement already satisfied: setuptools in c:\\users\\amardeep\\anaconda2\\lib\\site-packages (from request) (40.6.3)\n",
      "Collecting query_string\n",
      "  Downloading query-string-2019.4.13.tar.gz (1.6 kB)\n",
      "Collecting public\n",
      "  Downloading public-2019.4.13.tar.gz (2.3 kB)\n",
      "Building wheels for collected packages: request, get, post, query-string, public\n",
      "  Building wheel for request (setup.py): started\n",
      "  Building wheel for request (setup.py): still running...\n",
      "  Building wheel for request (setup.py): finished with status 'done'\n",
      "  Created wheel for request: filename=request-2019.4.13-py2-none-any.whl size=1698 sha256=1819057060066282acdf943a356645e6eeb6f1c4b91bfa6304adca1ef37445ff\n",
      "  Stored in directory: c:\\users\\amardeep\\appdata\\local\\pip\\cache\\wheels\\4f\\c1\\22\\146f9e7c538c54f980db4fc2912bcc7f10bdf08c1b71c939c0\n",
      "  Building wheel for get (setup.py): started\n",
      "  Building wheel for get (setup.py): finished with status 'done'\n",
      "  Created wheel for get: filename=get-2019.4.13-py2-none-any.whl size=1711 sha256=9d7e526d7589e21ddd06f56231c82b01360b7ca636b7f80482222f1f153b2f1f\n",
      "  Stored in directory: c:\\users\\amardeep\\appdata\\local\\pip\\cache\\wheels\\83\\42\\c0\\a2688fcca5f9d5f3436ef8a7330a7274645abdd7282c23ffcd\n",
      "  Building wheel for post (setup.py): started\n",
      "  Building wheel for post (setup.py): finished with status 'done'\n",
      "  Created wheel for post: filename=post-2019.4.13-py2-none-any.whl size=1678 sha256=b00be7dd3885173490ff1d7ea88f7a0303f873fbff526dca88e5315c66ca83ed\n",
      "  Stored in directory: c:\\users\\amardeep\\appdata\\local\\pip\\cache\\wheels\\40\\7a\\fa\\b6c3d3049c324d53fa418ecd0d29b620d031e32c15ddf37365\n",
      "  Building wheel for query-string (setup.py): started\n",
      "  Building wheel for query-string (setup.py): finished with status 'done'\n",
      "  Created wheel for query-string: filename=query_string-2019.4.13-py2-none-any.whl size=2074 sha256=358514129d77858cee0e614922a9e7a60bcb8ce83248f741625d3f3c2faea782\n",
      "  Stored in directory: c:\\users\\amardeep\\appdata\\local\\pip\\cache\\wheels\\e2\\aa\\a2\\f440911b977cf46675967bd5cd379a47650ddcef9ff76634a4\n",
      "  Building wheel for public (setup.py): started\n",
      "  Building wheel for public (setup.py): finished with status 'done'\n",
      "  Created wheel for public: filename=public-2019.4.13-py2-none-any.whl size=2569 sha256=9f1ba12fec6fab62fdac18a00dd9ef216332f429ef3c61dea102cf221c0075a3\n",
      "  Stored in directory: c:\\users\\amardeep\\appdata\\local\\pip\\cache\\wheels\\0e\\cb\\e4\\1f498f5bea5c055a8ed26f1a0495a802209ec7218bf23ec398\n",
      "Successfully built request get post query-string public\n",
      "Installing collected packages: public, query-string, get, post, request\n",
      "Successfully installed get-2019.4.13 post-2019.4.13 public-2019.4.13 query-string-2019.4.13 request-2019.4.13\n"
     ]
    },
    {
     "name": "stderr",
     "output_type": "stream",
     "text": [
      "DEPRECATION: Python 2.7 reached the end of its life on January 1st, 2020. Please upgrade your Python as Python 2.7 is no longer maintained. A future version of pip will drop support for Python 2.7. More details about Python 2 support in pip, can be found at https://pip.pypa.io/en/latest/development/release-process/#python-2-support\n"
     ]
    }
   ],
   "source": [
    "!pip install request"
   ]
  },
  {
   "cell_type": "code",
   "execution_count": null,
   "metadata": {},
   "outputs": [],
   "source": []
  }
 ],
 "metadata": {
  "kernelspec": {
   "display_name": "Python 2",
   "language": "python",
   "name": "python2"
  },
  "language_info": {
   "codemirror_mode": {
    "name": "ipython",
    "version": 2
   },
   "file_extension": ".py",
   "mimetype": "text/x-python",
   "name": "python",
   "nbconvert_exporter": "python",
   "pygments_lexer": "ipython2",
   "version": "2.7.15"
  }
 },
 "nbformat": 4,
 "nbformat_minor": 2
}
